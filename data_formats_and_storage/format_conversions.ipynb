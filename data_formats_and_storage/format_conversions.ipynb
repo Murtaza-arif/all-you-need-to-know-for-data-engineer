{
 "cells": [
  {
   "cell_type": "code",
   "execution_count": 1,
   "id": "652a17f9",
   "metadata": {},
   "outputs": [],
   "source": [
    "import pandas as pd\n",
    "import json\n",
    "import pyarrow as pa\n",
    "import pyarrow.parquet as pq\n",
    "import fastavro\n",
    "import os"
   ]
  },
  {
   "cell_type": "code",
   "execution_count": 2,
   "id": "a6f31775",
   "metadata": {
    "lines_to_next_cell": 1
   },
   "outputs": [],
   "source": [
    "# Create output directory if it doesn't exist\n",
    "output_dir = 'output'\n",
    "os.makedirs(output_dir, exist_ok=True)"
   ]
  },
  {
   "cell_type": "code",
   "execution_count": 4,
   "id": "9d29f729",
   "metadata": {
    "lines_to_next_cell": 1
   },
   "outputs": [
    {
     "name": "stdout",
     "output_type": "stream",
     "text": [
      "Converted CSV to Parquet: output/csv_to_parquet.parquet\n"
     ]
    }
   ],
   "source": [
    "def csv_to_parquet():\n",
    "    \"\"\"Convert CSV to Parquet format\"\"\"\n",
    "    # Read CSV\n",
    "    csv_file = f'{output_dir}/sample.csv'\n",
    "    df = pd.read_csv(csv_file)\n",
    "    \n",
    "    # Write to Parquet\n",
    "    parquet_file = f'{output_dir}/csv_to_parquet.parquet'\n",
    "    df.to_parquet(parquet_file)\n",
    "    print(f\"Converted CSV to Parquet: {parquet_file}\")\n",
    "csv_to_parquet()"
   ]
  },
  {
   "cell_type": "code",
   "execution_count": 5,
   "id": "35c741dc",
   "metadata": {
    "lines_to_next_cell": 1
   },
   "outputs": [
    {
     "name": "stdout",
     "output_type": "stream",
     "text": [
      "Converted JSON to CSV: output/json_to_csv.csv\n"
     ]
    }
   ],
   "source": [
    "def json_to_csv():\n",
    "    \"\"\"Convert JSON to CSV format\"\"\"\n",
    "    # Read JSON\n",
    "    json_file = f'{output_dir}/sample.json'\n",
    "    with open(json_file, 'r') as f:\n",
    "        data = json.load(f)\n",
    "    \n",
    "    # Convert to DataFrame and save as CSV\n",
    "    df = pd.DataFrame(data)\n",
    "    csv_file = f'{output_dir}/json_to_csv.csv'\n",
    "    df.to_csv(csv_file, index=False)\n",
    "    print(f\"Converted JSON to CSV: {csv_file}\")\n",
    "json_to_csv()"
   ]
  },
  {
   "cell_type": "code",
   "execution_count": 6,
   "id": "604c4f67",
   "metadata": {
    "lines_to_next_cell": 1
   },
   "outputs": [
    {
     "name": "stdout",
     "output_type": "stream",
     "text": [
      "Converted CSV to Avro: output/csv_to_avro.avro\n"
     ]
    }
   ],
   "source": [
    "def csv_to_avro():\n",
    "    \"\"\"Convert CSV to Avro format\"\"\"\n",
    "    # Read CSV\n",
    "    csv_file = f'{output_dir}/sample.csv'\n",
    "    df = pd.read_csv(csv_file)\n",
    "    \n",
    "    # Define Avro schema\n",
    "    schema = {\n",
    "        'type': 'record',\n",
    "        'name': 'User',\n",
    "        'fields': [\n",
    "            {'name': 'name', 'type': 'string'},\n",
    "            {'name': 'age', 'type': 'int'},\n",
    "            {'name': 'city', 'type': 'string'}\n",
    "        ]\n",
    "    }\n",
    "    \n",
    "    # Prepare records\n",
    "    records = df.to_dict('records')\n",
    "    \n",
    "    # Write to Avro\n",
    "    avro_file = f'{output_dir}/csv_to_avro.avro'\n",
    "    with open(avro_file, 'wb') as f:\n",
    "        fastavro.writer(f, schema, records)\n",
    "    print(f\"Converted CSV to Avro: {avro_file}\")\n",
    "csv_to_avro()"
   ]
  },
  {
   "cell_type": "code",
   "execution_count": 7,
   "id": "06ac9138",
   "metadata": {
    "lines_to_next_cell": 1
   },
   "outputs": [
    {
     "name": "stdout",
     "output_type": "stream",
     "text": [
      "Converted JSON to Parquet: output/json_to_parquet.parquet\n"
     ]
    }
   ],
   "source": [
    "def json_to_parquet():\n",
    "    \"\"\"Convert JSON to Parquet format\"\"\"\n",
    "    # Read JSON\n",
    "    json_file = f'{output_dir}/sample.json'\n",
    "    with open(json_file, 'r') as f:\n",
    "        data = json.load(f)\n",
    "    \n",
    "    # Convert to DataFrame\n",
    "    df = pd.DataFrame(data)\n",
    "    \n",
    "    # Write to Parquet\n",
    "    parquet_file = f'{output_dir}/json_to_parquet.parquet'\n",
    "    df.to_parquet(parquet_file)\n",
    "    print(f\"Converted JSON to Parquet: {parquet_file}\")\n",
    "json_to_parquet()"
   ]
  }
 ],
 "metadata": {
  "jupytext": {
   "cell_metadata_filter": "-all",
   "main_language": "python",
   "notebook_metadata_filter": "-all"
  },
  "kernelspec": {
   "display_name": ".venv",
   "language": "python",
   "name": "python3"
  },
  "language_info": {
   "codemirror_mode": {
    "name": "ipython",
    "version": 3
   },
   "file_extension": ".py",
   "mimetype": "text/x-python",
   "name": "python",
   "nbconvert_exporter": "python",
   "pygments_lexer": "ipython3",
   "version": "3.12.7"
  }
 },
 "nbformat": 4,
 "nbformat_minor": 5
}
